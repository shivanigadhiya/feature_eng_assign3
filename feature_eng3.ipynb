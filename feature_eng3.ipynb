{
 "cells": [
  {
   "cell_type": "markdown",
   "id": "c93ce00a-3f5f-4d72-adc9-ddd374f50d21",
   "metadata": {},
   "source": [
    "Q1. What is data encoding? How is it useful in data science?"
   ]
  },
  {
   "cell_type": "markdown",
   "id": "97df8e65-60f2-4c7d-88f6-0b5333fdb10e",
   "metadata": {},
   "source": [
    "Encoding is the process of converting the data or a given sequence of characters, symbols, alphabets etc., into a specified format, for the secured transmission of data. Decoding is the reverse process of encoding which is to extract the information from the converted format."
   ]
  },
  {
   "cell_type": "markdown",
   "id": "569fa2e8-7a9b-4353-a51a-9532f167f008",
   "metadata": {},
   "source": [
    "Aim : To convert catagorical feature to numerical feature."
   ]
  },
  {
   "cell_type": "markdown",
   "id": "acefe0fd-0850-497c-9f20-25275862044b",
   "metadata": {},
   "source": [
    "Types of encoding : Nominal/OHE , ordinal and label encoding , target guided ordinal encoding"
   ]
  },
  {
   "cell_type": "markdown",
   "id": "4ca19c24-2caa-441e-b137-c9d234ddc747",
   "metadata": {},
   "source": [
    "Q2. What is nominal encoding? Provide an example of how you would use it in a real-world scenario."
   ]
  },
  {
   "cell_type": "markdown",
   "id": "a3a2bbe1-6a72-4e18-95d0-7edb00475eef",
   "metadata": {},
   "source": [
    "It is used to transform catagorical variables that have no intrinsic ordering into numerical values that can be used in machine learning"
   ]
  },
  {
   "cell_type": "markdown",
   "id": "b3773447-2bbe-4625-87f8-ea6341e39dde",
   "metadata": {},
   "source": [
    "One common method for nominal encoding is one hot encoding , which creates a binary vector for each catagory in the variable."
   ]
  },
  {
   "cell_type": "code",
   "execution_count": 1,
   "id": "0d2ec1d6-0be7-461a-a7de-7f9245f7c257",
   "metadata": {},
   "outputs": [],
   "source": [
    "import pandas as pd"
   ]
  },
  {
   "cell_type": "code",
   "execution_count": 2,
   "id": "680c6695-6e5f-459f-8255-4b72ac6e09ac",
   "metadata": {},
   "outputs": [],
   "source": [
    "from sklearn.preprocessing import OneHotEncoder"
   ]
  },
  {
   "cell_type": "code",
   "execution_count": 3,
   "id": "6246aead-fbc7-4c55-8a1b-63be5d2fed00",
   "metadata": {},
   "outputs": [],
   "source": [
    "df = pd.DataFrame({'color': ['red','blue','green','green','blue','red','blue']})"
   ]
  },
  {
   "cell_type": "code",
   "execution_count": 4,
   "id": "fb814b5a-e1e3-4e93-9cad-fc61a780be52",
   "metadata": {},
   "outputs": [
    {
     "data": {
      "text/html": [
       "<div>\n",
       "<style scoped>\n",
       "    .dataframe tbody tr th:only-of-type {\n",
       "        vertical-align: middle;\n",
       "    }\n",
       "\n",
       "    .dataframe tbody tr th {\n",
       "        vertical-align: top;\n",
       "    }\n",
       "\n",
       "    .dataframe thead th {\n",
       "        text-align: right;\n",
       "    }\n",
       "</style>\n",
       "<table border=\"1\" class=\"dataframe\">\n",
       "  <thead>\n",
       "    <tr style=\"text-align: right;\">\n",
       "      <th></th>\n",
       "      <th>color</th>\n",
       "    </tr>\n",
       "  </thead>\n",
       "  <tbody>\n",
       "    <tr>\n",
       "      <th>0</th>\n",
       "      <td>red</td>\n",
       "    </tr>\n",
       "    <tr>\n",
       "      <th>1</th>\n",
       "      <td>blue</td>\n",
       "    </tr>\n",
       "    <tr>\n",
       "      <th>2</th>\n",
       "      <td>green</td>\n",
       "    </tr>\n",
       "    <tr>\n",
       "      <th>3</th>\n",
       "      <td>green</td>\n",
       "    </tr>\n",
       "    <tr>\n",
       "      <th>4</th>\n",
       "      <td>blue</td>\n",
       "    </tr>\n",
       "    <tr>\n",
       "      <th>5</th>\n",
       "      <td>red</td>\n",
       "    </tr>\n",
       "    <tr>\n",
       "      <th>6</th>\n",
       "      <td>blue</td>\n",
       "    </tr>\n",
       "  </tbody>\n",
       "</table>\n",
       "</div>"
      ],
      "text/plain": [
       "   color\n",
       "0    red\n",
       "1   blue\n",
       "2  green\n",
       "3  green\n",
       "4   blue\n",
       "5    red\n",
       "6   blue"
      ]
     },
     "execution_count": 4,
     "metadata": {},
     "output_type": "execute_result"
    }
   ],
   "source": [
    "df"
   ]
  },
  {
   "cell_type": "code",
   "execution_count": 5,
   "id": "08beeb3b-3ff4-4292-8a0d-a0689b68cf9a",
   "metadata": {},
   "outputs": [],
   "source": [
    "encoder = OneHotEncoder()"
   ]
  },
  {
   "cell_type": "code",
   "execution_count": 6,
   "id": "ffa3fe21-83e0-4a6c-a19a-9f0d89dcbaa1",
   "metadata": {},
   "outputs": [
    {
     "data": {
      "text/html": [
       "<style>#sk-container-id-1 {color: black;background-color: white;}#sk-container-id-1 pre{padding: 0;}#sk-container-id-1 div.sk-toggleable {background-color: white;}#sk-container-id-1 label.sk-toggleable__label {cursor: pointer;display: block;width: 100%;margin-bottom: 0;padding: 0.3em;box-sizing: border-box;text-align: center;}#sk-container-id-1 label.sk-toggleable__label-arrow:before {content: \"▸\";float: left;margin-right: 0.25em;color: #696969;}#sk-container-id-1 label.sk-toggleable__label-arrow:hover:before {color: black;}#sk-container-id-1 div.sk-estimator:hover label.sk-toggleable__label-arrow:before {color: black;}#sk-container-id-1 div.sk-toggleable__content {max-height: 0;max-width: 0;overflow: hidden;text-align: left;background-color: #f0f8ff;}#sk-container-id-1 div.sk-toggleable__content pre {margin: 0.2em;color: black;border-radius: 0.25em;background-color: #f0f8ff;}#sk-container-id-1 input.sk-toggleable__control:checked~div.sk-toggleable__content {max-height: 200px;max-width: 100%;overflow: auto;}#sk-container-id-1 input.sk-toggleable__control:checked~label.sk-toggleable__label-arrow:before {content: \"▾\";}#sk-container-id-1 div.sk-estimator input.sk-toggleable__control:checked~label.sk-toggleable__label {background-color: #d4ebff;}#sk-container-id-1 div.sk-label input.sk-toggleable__control:checked~label.sk-toggleable__label {background-color: #d4ebff;}#sk-container-id-1 input.sk-hidden--visually {border: 0;clip: rect(1px 1px 1px 1px);clip: rect(1px, 1px, 1px, 1px);height: 1px;margin: -1px;overflow: hidden;padding: 0;position: absolute;width: 1px;}#sk-container-id-1 div.sk-estimator {font-family: monospace;background-color: #f0f8ff;border: 1px dotted black;border-radius: 0.25em;box-sizing: border-box;margin-bottom: 0.5em;}#sk-container-id-1 div.sk-estimator:hover {background-color: #d4ebff;}#sk-container-id-1 div.sk-parallel-item::after {content: \"\";width: 100%;border-bottom: 1px solid gray;flex-grow: 1;}#sk-container-id-1 div.sk-label:hover label.sk-toggleable__label {background-color: #d4ebff;}#sk-container-id-1 div.sk-serial::before {content: \"\";position: absolute;border-left: 1px solid gray;box-sizing: border-box;top: 0;bottom: 0;left: 50%;z-index: 0;}#sk-container-id-1 div.sk-serial {display: flex;flex-direction: column;align-items: center;background-color: white;padding-right: 0.2em;padding-left: 0.2em;position: relative;}#sk-container-id-1 div.sk-item {position: relative;z-index: 1;}#sk-container-id-1 div.sk-parallel {display: flex;align-items: stretch;justify-content: center;background-color: white;position: relative;}#sk-container-id-1 div.sk-item::before, #sk-container-id-1 div.sk-parallel-item::before {content: \"\";position: absolute;border-left: 1px solid gray;box-sizing: border-box;top: 0;bottom: 0;left: 50%;z-index: -1;}#sk-container-id-1 div.sk-parallel-item {display: flex;flex-direction: column;z-index: 1;position: relative;background-color: white;}#sk-container-id-1 div.sk-parallel-item:first-child::after {align-self: flex-end;width: 50%;}#sk-container-id-1 div.sk-parallel-item:last-child::after {align-self: flex-start;width: 50%;}#sk-container-id-1 div.sk-parallel-item:only-child::after {width: 0;}#sk-container-id-1 div.sk-dashed-wrapped {border: 1px dashed gray;margin: 0 0.4em 0.5em 0.4em;box-sizing: border-box;padding-bottom: 0.4em;background-color: white;}#sk-container-id-1 div.sk-label label {font-family: monospace;font-weight: bold;display: inline-block;line-height: 1.2em;}#sk-container-id-1 div.sk-label-container {text-align: center;}#sk-container-id-1 div.sk-container {/* jupyter's `normalize.less` sets `[hidden] { display: none; }` but bootstrap.min.css set `[hidden] { display: none !important; }` so we also need the `!important` here to be able to override the default hidden behavior on the sphinx rendered scikit-learn.org. See: https://github.com/scikit-learn/scikit-learn/issues/21755 */display: inline-block !important;position: relative;}#sk-container-id-1 div.sk-text-repr-fallback {display: none;}</style><div id=\"sk-container-id-1\" class=\"sk-top-container\"><div class=\"sk-text-repr-fallback\"><pre>OneHotEncoder()</pre><b>In a Jupyter environment, please rerun this cell to show the HTML representation or trust the notebook. <br />On GitHub, the HTML representation is unable to render, please try loading this page with nbviewer.org.</b></div><div class=\"sk-container\" hidden><div class=\"sk-item\"><div class=\"sk-estimator sk-toggleable\"><input class=\"sk-toggleable__control sk-hidden--visually\" id=\"sk-estimator-id-1\" type=\"checkbox\" checked><label for=\"sk-estimator-id-1\" class=\"sk-toggleable__label sk-toggleable__label-arrow\">OneHotEncoder</label><div class=\"sk-toggleable__content\"><pre>OneHotEncoder()</pre></div></div></div></div></div>"
      ],
      "text/plain": [
       "OneHotEncoder()"
      ]
     },
     "execution_count": 6,
     "metadata": {},
     "output_type": "execute_result"
    }
   ],
   "source": [
    "encoder"
   ]
  },
  {
   "cell_type": "code",
   "execution_count": 8,
   "id": "e6be9a10-1e04-48bd-a65d-1db8d2f5d8d8",
   "metadata": {},
   "outputs": [],
   "source": [
    "encoded = encoder.fit_transform(df[['color']]).toarray()"
   ]
  },
  {
   "cell_type": "code",
   "execution_count": 10,
   "id": "61283378-e4a1-4780-be8f-543f4604bc75",
   "metadata": {},
   "outputs": [],
   "source": [
    "import pandas as pd"
   ]
  },
  {
   "cell_type": "code",
   "execution_count": 14,
   "id": "8dd0f901-5e43-4e0b-be92-598998cd78b6",
   "metadata": {},
   "outputs": [],
   "source": [
    "encoded_df = pd.DataFrame(encoded,columns = ['red','blue','green'])"
   ]
  },
  {
   "cell_type": "code",
   "execution_count": 15,
   "id": "033f20ac-b182-4b74-956d-2c6dea610e15",
   "metadata": {},
   "outputs": [
    {
     "data": {
      "text/html": [
       "<div>\n",
       "<style scoped>\n",
       "    .dataframe tbody tr th:only-of-type {\n",
       "        vertical-align: middle;\n",
       "    }\n",
       "\n",
       "    .dataframe tbody tr th {\n",
       "        vertical-align: top;\n",
       "    }\n",
       "\n",
       "    .dataframe thead th {\n",
       "        text-align: right;\n",
       "    }\n",
       "</style>\n",
       "<table border=\"1\" class=\"dataframe\">\n",
       "  <thead>\n",
       "    <tr style=\"text-align: right;\">\n",
       "      <th></th>\n",
       "      <th>red</th>\n",
       "      <th>blue</th>\n",
       "      <th>green</th>\n",
       "    </tr>\n",
       "  </thead>\n",
       "  <tbody>\n",
       "    <tr>\n",
       "      <th>0</th>\n",
       "      <td>0.0</td>\n",
       "      <td>0.0</td>\n",
       "      <td>1.0</td>\n",
       "    </tr>\n",
       "    <tr>\n",
       "      <th>1</th>\n",
       "      <td>1.0</td>\n",
       "      <td>0.0</td>\n",
       "      <td>0.0</td>\n",
       "    </tr>\n",
       "    <tr>\n",
       "      <th>2</th>\n",
       "      <td>0.0</td>\n",
       "      <td>1.0</td>\n",
       "      <td>0.0</td>\n",
       "    </tr>\n",
       "    <tr>\n",
       "      <th>3</th>\n",
       "      <td>0.0</td>\n",
       "      <td>1.0</td>\n",
       "      <td>0.0</td>\n",
       "    </tr>\n",
       "    <tr>\n",
       "      <th>4</th>\n",
       "      <td>1.0</td>\n",
       "      <td>0.0</td>\n",
       "      <td>0.0</td>\n",
       "    </tr>\n",
       "    <tr>\n",
       "      <th>5</th>\n",
       "      <td>0.0</td>\n",
       "      <td>0.0</td>\n",
       "      <td>1.0</td>\n",
       "    </tr>\n",
       "    <tr>\n",
       "      <th>6</th>\n",
       "      <td>1.0</td>\n",
       "      <td>0.0</td>\n",
       "      <td>0.0</td>\n",
       "    </tr>\n",
       "  </tbody>\n",
       "</table>\n",
       "</div>"
      ],
      "text/plain": [
       "   red  blue  green\n",
       "0  0.0   0.0    1.0\n",
       "1  1.0   0.0    0.0\n",
       "2  0.0   1.0    0.0\n",
       "3  0.0   1.0    0.0\n",
       "4  1.0   0.0    0.0\n",
       "5  0.0   0.0    1.0\n",
       "6  1.0   0.0    0.0"
      ]
     },
     "execution_count": 15,
     "metadata": {},
     "output_type": "execute_result"
    }
   ],
   "source": [
    "encoded_df"
   ]
  },
  {
   "cell_type": "code",
   "execution_count": 17,
   "id": "6eb900a3-aefb-4eac-b9f0-d1232f94bb09",
   "metadata": {},
   "outputs": [
    {
     "data": {
      "text/html": [
       "<div>\n",
       "<style scoped>\n",
       "    .dataframe tbody tr th:only-of-type {\n",
       "        vertical-align: middle;\n",
       "    }\n",
       "\n",
       "    .dataframe tbody tr th {\n",
       "        vertical-align: top;\n",
       "    }\n",
       "\n",
       "    .dataframe thead th {\n",
       "        text-align: right;\n",
       "    }\n",
       "</style>\n",
       "<table border=\"1\" class=\"dataframe\">\n",
       "  <thead>\n",
       "    <tr style=\"text-align: right;\">\n",
       "      <th></th>\n",
       "      <th>color</th>\n",
       "      <th>red</th>\n",
       "      <th>blue</th>\n",
       "      <th>green</th>\n",
       "    </tr>\n",
       "  </thead>\n",
       "  <tbody>\n",
       "    <tr>\n",
       "      <th>0</th>\n",
       "      <td>red</td>\n",
       "      <td>0.0</td>\n",
       "      <td>0.0</td>\n",
       "      <td>1.0</td>\n",
       "    </tr>\n",
       "    <tr>\n",
       "      <th>1</th>\n",
       "      <td>blue</td>\n",
       "      <td>1.0</td>\n",
       "      <td>0.0</td>\n",
       "      <td>0.0</td>\n",
       "    </tr>\n",
       "    <tr>\n",
       "      <th>2</th>\n",
       "      <td>green</td>\n",
       "      <td>0.0</td>\n",
       "      <td>1.0</td>\n",
       "      <td>0.0</td>\n",
       "    </tr>\n",
       "    <tr>\n",
       "      <th>3</th>\n",
       "      <td>green</td>\n",
       "      <td>0.0</td>\n",
       "      <td>1.0</td>\n",
       "      <td>0.0</td>\n",
       "    </tr>\n",
       "    <tr>\n",
       "      <th>4</th>\n",
       "      <td>blue</td>\n",
       "      <td>1.0</td>\n",
       "      <td>0.0</td>\n",
       "      <td>0.0</td>\n",
       "    </tr>\n",
       "    <tr>\n",
       "      <th>5</th>\n",
       "      <td>red</td>\n",
       "      <td>0.0</td>\n",
       "      <td>0.0</td>\n",
       "      <td>1.0</td>\n",
       "    </tr>\n",
       "    <tr>\n",
       "      <th>6</th>\n",
       "      <td>blue</td>\n",
       "      <td>1.0</td>\n",
       "      <td>0.0</td>\n",
       "      <td>0.0</td>\n",
       "    </tr>\n",
       "  </tbody>\n",
       "</table>\n",
       "</div>"
      ],
      "text/plain": [
       "   color  red  blue  green\n",
       "0    red  0.0   0.0    1.0\n",
       "1   blue  1.0   0.0    0.0\n",
       "2  green  0.0   1.0    0.0\n",
       "3  green  0.0   1.0    0.0\n",
       "4   blue  1.0   0.0    0.0\n",
       "5    red  0.0   0.0    1.0\n",
       "6   blue  1.0   0.0    0.0"
      ]
     },
     "execution_count": 17,
     "metadata": {},
     "output_type": "execute_result"
    }
   ],
   "source": [
    "pd.concat([df,encoded_df],axis=1)"
   ]
  },
  {
   "cell_type": "markdown",
   "id": "b0aa6368-c9a6-488c-84e1-b1db8fb03d37",
   "metadata": {},
   "source": [
    "Q3. In what situations is nominal encoding preferred over one-hot encoding? Provide a practical example."
   ]
  },
  {
   "cell_type": "markdown",
   "id": "f9bcc577-192a-4fbd-b9e0-5f07c090f157",
   "metadata": {},
   "source": [
    "Nominal encoding is preferred over one-hot encoding in situations where:\n",
    "\n",
    "Reduction of dimensionality is required: One-hot encoding can significantly increase the dimensionality of the dataset when dealing with categorical variables with many unique categories. In such cases, using nominal encoding reduces the number of features in the dataset.\n",
    "\n",
    "Preservation of the sequential information is necessary: Some machine learning algorithms, such as decision trees or random forests, can naturally handle nominal encoding as they can split the data based on the numerical labels. These algorithms do not require separate binary columns for each category, making nominal encoding more efficient.\n",
    "\n",
    "Categorical variables with high cardinality: When dealing with categorical variables containing a high number of unique categories, one-hot encoding can create a large number of columns, which might lead to the curse of dimensionality. Nominal encoding can be more suitable in such scenarios.\n",
    "\n",
    "Practical example:\n",
    "\n",
    "Consider a dataset containing a \"Country\" column with country names as categories. One-hot encoding this column would create a binary column for each country present in the dataset, potentially leading to hundreds of columns if there are many unique countries."
   ]
  },
  {
   "cell_type": "markdown",
   "id": "26fe0b6e-1504-420e-89a2-4fc145cfc78e",
   "metadata": {},
   "source": [
    "Q4. Suppose you have a dataset containing categorical data with 5 unique values. Which encoding\n",
    "technique would you use to transform this data into a format suitable for machine learning algorithms?\n",
    "Explain why you made this choice."
   ]
  },
  {
   "cell_type": "markdown",
   "id": "9c2a2009-09f7-4bae-8d35-1f30bbd2a94f",
   "metadata": {},
   "source": [
    "Use one-hot encoding if computational resources allow and preserving category independence is crucial.\n",
    "Use label encoding if the model or algorithm can handle numerical representations of categories and the increase in dimensionality from one-hot encoding is a concern.\n",
    "\n",
    "\n",
    "\n",
    "\n"
   ]
  },
  {
   "cell_type": "markdown",
   "id": "e50dc86e-d33d-42bc-854e-5ea2fe579aea",
   "metadata": {},
   "source": [
    "Q5. In a machine learning project, you have a dataset with 1000 rows and 5 columns. Two of the columns\n",
    "are categorical, and the remaining three columns are numerical. If you were to use nominal encoding to\n",
    "transform the categorical data, how many new columns would be created? Show your calculations."
   ]
  },
  {
   "cell_type": "markdown",
   "id": "6f7b1afe-cde1-4fd8-90ae-7234f5729d07",
   "metadata": {},
   "source": [
    "For example:\n",
    "\n",
    "If the first categorical column has 4 unique categories, the second categorical column has 3 unique categories ."
   ]
  },
  {
   "cell_type": "markdown",
   "id": "dffe129e-e53e-4459-8c81-b4146ba9db35",
   "metadata": {},
   "source": [
    "New columns = 4+3=7"
   ]
  },
  {
   "cell_type": "markdown",
   "id": "c9dc1750-d75c-4480-b258-feee72a3ef2b",
   "metadata": {},
   "source": [
    "Q6. You are working with a dataset containing information about different types of animals, including their\n",
    "species, habitat, and diet. Which encoding technique would you use to transform the categorical data into\n",
    "a format suitable for machine learning algorithms? Justify your answer."
   ]
  },
  {
   "cell_type": "markdown",
   "id": "0413ee22-1969-4cf2-ab62-3dc221bf3e84",
   "metadata": {},
   "source": [
    "One-hot encoding is suitable when dealing with categorical variables that lack inherent order or hierarchy among their categories.\n",
    "It preserves the independence of categories by creating binary columns for each unique category, preventing the model from interpreting false ordinality.\n",
    "The approach is versatile and generally applicable to scenarios where nominal categorical variables need to be encoded for machine learning algorithms.\n",
    "In summary, for the dataset containing information about animal species, habitat, and diet where the categorical variables do not exhibit any inherent order or hierarchy among their categories, using one-hot encoding would be a suitable and justifiable choice."
   ]
  },
  {
   "cell_type": "markdown",
   "id": "d22842b2-6156-429f-ac2a-b468b5589339",
   "metadata": {},
   "source": [
    "Q7.You are working on a project that involves predicting customer churn for a telecommunications\n",
    "company. You have a dataset with 5 features, including the customer's gender, age, contract type,\n",
    "monthly charges, and tenure. Which encoding technique(s) would you use to transform the categorical\n",
    "data into numerical data? Provide a step-by-step explanation of how you would implement the encoding."
   ]
  },
  {
   "cell_type": "markdown",
   "id": "c0f5e4ca-a2d0-40ba-b0cd-bfd722e7a68c",
   "metadata": {},
   "source": [
    "Identify Categorical Variables:\n",
    "\n",
    "Gender and contract type are the categorical variables in the dataset.\n",
    "Choose Encoding Techniques:\n",
    "\n",
    "For binary categorical variables (like gender), you can use binary encoding or label encoding.\n",
    "For contract type (assuming there are multiple categories such as 'month-to-month', 'one year', 'two year'), you can use one-hot encoding or label encoding.\n",
    "Implement Encoding:\n",
    "\n",
    "a. Encoding Gender (Binary Categorical Variable):\n",
    "\n",
    "For gender, as it's binary (assuming 'male' and 'female'), you can use binary encoding or label encoding:\n",
    "\n",
    "Binary Encoding: If you choose binary encoding, you can represent 'gender' in binary form. For instance, 'male' might be encoded as 0 (binary: 00) and 'female' as 1 (binary: 01).\n",
    "\n",
    "Label Encoding: Alternatively, using label encoding, you can assign numerical labels, such as 'male' as 0 and 'female' as 1.\n",
    "\n",
    "b. Encoding Contract Type (Multiple Categories):\n",
    "\n",
    "For contract type, as there are multiple categories ('month-to-month', 'one year', 'two year'), using one-hot encoding or label encoding is suitable:\n",
    "\n",
    "One-Hot Encoding: This method will create separate binary columns for each contract type. For example, 'month-to-month' might be represented as [1, 0, 0], 'one year' as [0, 1, 0], and 'two year' as [0, 0, 1].\n",
    "\n",
    "Label Encoding: Alternatively, label encoding could assign numerical labels like 'month-to-month' as 0, 'one year' as 1, and 'two year' as 2. However, this method might imply ordinality, which might not exist in this scenario.\n",
    "\n",
    "Keep Numerical Features Unchanged:\n",
    "\n",
    "Age, monthly charges, and tenure are already numerical features, so they don’t require any transformation."
   ]
  },
  {
   "cell_type": "code",
   "execution_count": null,
   "id": "baf84b1f-da9f-4b70-92e8-9ace7ba5aeaf",
   "metadata": {},
   "outputs": [],
   "source": []
  }
 ],
 "metadata": {
  "kernelspec": {
   "display_name": "Python 3 (ipykernel)",
   "language": "python",
   "name": "python3"
  },
  "language_info": {
   "codemirror_mode": {
    "name": "ipython",
    "version": 3
   },
   "file_extension": ".py",
   "mimetype": "text/x-python",
   "name": "python",
   "nbconvert_exporter": "python",
   "pygments_lexer": "ipython3",
   "version": "3.10.8"
  }
 },
 "nbformat": 4,
 "nbformat_minor": 5
}
